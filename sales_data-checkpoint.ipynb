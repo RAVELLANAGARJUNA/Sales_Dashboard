{
 "cells": [
  {
   "cell_type": "code",
   "execution_count": 11,
   "id": "89f336ff-c085-4cb3-aebe-d52601343ed8",
   "metadata": {},
   "outputs": [
    {
     "name": "stdout",
     "output_type": "stream",
     "text": [
      "   OrderID  OrderDate CustomerID     CustomerName Region      Segment  \\\n",
      "0  ORD1000 2022-01-01    CUST802      Adam Austin   East    Corporate   \n",
      "1  ORD1001 2022-01-02    CUST905     Jeremy Crane  South  Home Office   \n",
      "2  ORD1002 2022-01-03    CUST960  Robert Friedman   East     Consumer   \n",
      "3  ORD1003 2022-01-04    CUST558    Julia Stewart   East    Corporate   \n",
      "4  ORD1004 2022-01-05    CUST642     Brian Butler   East  Home Office   \n",
      "\n",
      "   ProductCategory ProductName   Sales  Quantity  Discount  Profit  \\\n",
      "0        Furniture         Old  387.05         3      0.02  211.19   \n",
      "1  Office Supplies   Education  951.70         8      0.17   26.66   \n",
      "2  Office Supplies      Forget  737.35         7      0.09  -24.84   \n",
      "3       Technology  Themselves  606.69         3      0.32  200.49   \n",
      "4  Office Supplies       Break  172.90         6      0.23   86.75   \n",
      "\n",
      "         ShipMode  ShippingDate  \n",
      "0    Second Class           NaN  \n",
      "1  Standard Class           NaN  \n",
      "2  Standard Class           NaN  \n",
      "3        Same Day           NaN  \n",
      "4        Same Day           NaN  \n"
     ]
    }
   ],
   "source": [
    "import pandas as pd\n",
    "df = pd.read_excel(\"Cleaned_Sales_Data.xlsx\")\n",
    "print(df.head(5))\n"
   ]
  },
  {
   "cell_type": "code",
   "execution_count": 7,
   "id": "91051ba7-ec43-4292-baeb-30f7198a0e5f",
   "metadata": {},
   "outputs": [
    {
     "name": "stdout",
     "output_type": "stream",
     "text": [
      "(5000, 14)\n",
      "<class 'pandas.core.frame.DataFrame'>\n",
      "RangeIndex: 5000 entries, 0 to 4999\n",
      "Data columns (total 14 columns):\n",
      " #   Column           Non-Null Count  Dtype         \n",
      "---  ------           --------------  -----         \n",
      " 0   OrderID          5000 non-null   object        \n",
      " 1   OrderDate        5000 non-null   datetime64[ns]\n",
      " 2   CustomerID       5000 non-null   object        \n",
      " 3   CustomerName     5000 non-null   object        \n",
      " 4   Region           5000 non-null   object        \n",
      " 5   Segment          5000 non-null   object        \n",
      " 6   ProductCategory  5000 non-null   object        \n",
      " 7   ProductName      4991 non-null   object        \n",
      " 8   Sales            5000 non-null   float64       \n",
      " 9   Quantity         5000 non-null   int64         \n",
      " 10  Discount         5000 non-null   float64       \n",
      " 11  Profit           5000 non-null   float64       \n",
      " 12  ShipMode         5000 non-null   object        \n",
      " 13  ShippingDate     0 non-null      float64       \n",
      "dtypes: datetime64[ns](1), float64(4), int64(1), object(8)\n",
      "memory usage: 547.0+ KB\n",
      "None\n",
      "                 OrderDate        Sales     Quantity     Discount  \\\n",
      "count                 5000  5000.000000  5000.000000  5000.000000   \n",
      "mean   2028-11-04 12:00:00   506.895382     5.007200     0.249464   \n",
      "min    2022-01-01 00:00:00    20.010000     1.000000     0.000000   \n",
      "25%    2025-06-03 18:00:00   258.985000     3.000000     0.120000   \n",
      "50%    2028-11-04 12:00:00   510.010000     5.000000     0.250000   \n",
      "75%    2032-04-07 06:00:00   753.137500     7.000000     0.380000   \n",
      "max    2035-09-09 00:00:00   999.720000     9.000000     0.500000   \n",
      "std                    NaN   283.841016     2.588298     0.145834   \n",
      "\n",
      "            Profit  ShippingDate  \n",
      "count  5000.000000           0.0  \n",
      "mean    127.816866           NaN  \n",
      "min     -49.910000           NaN  \n",
      "25%      42.402500           NaN  \n",
      "50%     129.470000           NaN  \n",
      "75%     213.572500           NaN  \n",
      "max     299.970000           NaN  \n",
      "std     100.463624           NaN  \n"
     ]
    }
   ],
   "source": [
    "#Basic Structures\n",
    "print(df.shape)\n",
    "print(df.info())\n",
    "print(df.describe())"
   ]
  },
  {
   "cell_type": "code",
   "execution_count": 10,
   "id": "9339b41c-f56d-4ea7-a87c-0e67a5774df8",
   "metadata": {},
   "outputs": [
    {
     "name": "stdout",
     "output_type": "stream",
     "text": [
      "Duplicates: 0\n",
      "OrderID               0\n",
      "OrderDate             0\n",
      "CustomerID            0\n",
      "CustomerName          0\n",
      "Region                0\n",
      "Segment               0\n",
      "ProductCategory       0\n",
      "ProductName           9\n",
      "Sales                 0\n",
      "Quantity              0\n",
      "Discount              0\n",
      "Profit                0\n",
      "ShipMode              0\n",
      "ShippingDate       5000\n",
      "dtype: int64\n"
     ]
    }
   ],
   "source": [
    "#Check for Duplicates and Nulls\n",
    "print(\"Duplicates:\",df.duplicated().sum())\n",
    "print(df.isnull().sum())"
   ]
  },
  {
   "cell_type": "code",
   "execution_count": 17,
   "id": "0d1d27f1-fdf4-4dcf-ae92-55f56f5dd695",
   "metadata": {},
   "outputs": [
    {
     "name": "stdout",
     "output_type": "stream",
     "text": [
      "OrderID            0\n",
      "OrderDate          0\n",
      "CustomerID         0\n",
      "CustomerName       0\n",
      "Region             0\n",
      "Segment            0\n",
      "ProductCategory    0\n",
      "ProductName        0\n",
      "Sales              0\n",
      "Quantity           0\n",
      "Discount           0\n",
      "Profit             0\n",
      "ShipMode           0\n",
      "dtype: int64\n",
      "Index(['OrderID', 'OrderDate', 'CustomerID', 'CustomerName', 'Region',\n",
      "       'Segment', 'ProductCategory', 'ProductName', 'Sales', 'Quantity',\n",
      "       'Discount', 'Profit', 'ShipMode'],\n",
      "      dtype='object')\n"
     ]
    }
   ],
   "source": [
    "#Handling Null Values\n",
    "df = df.dropna(subset = ['ProductName'])\n",
    "df.drop('ShippingDate',axis = 1,inplace = True, errors = \"ignore\")\n",
    "print(df.isnull().sum())\n",
    "print(df.columns)"
   ]
  },
  {
   "cell_type": "code",
   "execution_count": 18,
   "id": "5e359477-4cc1-4e02-898a-daf1bad107ec",
   "metadata": {},
   "outputs": [
    {
     "name": "stdout",
     "output_type": "stream",
     "text": [
      "OrderID                    object\n",
      "OrderDate          datetime64[ns]\n",
      "CustomerID                 object\n",
      "CustomerName               object\n",
      "Region                     object\n",
      "Segment                    object\n",
      "ProductCategory            object\n",
      "ProductName                object\n",
      "Sales                     float64\n",
      "Quantity                    int64\n",
      "Discount                  float64\n",
      "Profit                    float64\n",
      "ShipMode                   object\n",
      "dtype: object\n"
     ]
    }
   ],
   "source": [
    "#Check Data types and Conversion\n",
    "print(df.dtypes)"
   ]
  },
  {
   "cell_type": "code",
   "execution_count": 22,
   "id": "dcd7f2fb-b468-4233-8e17-ea65c16576b1",
   "metadata": {},
   "outputs": [
    {
     "name": "stdout",
     "output_type": "stream",
     "text": [
      "['Furniture' 'Office Supplies' 'Technology']\n",
      "['East' 'South' 'Central' 'West']\n",
      "2022-01-01 00:00:00 2035-09-09 00:00:00\n"
     ]
    }
   ],
   "source": [
    "#Viewing Unique values in columns:\n",
    "print(df[\"ProductCategory\"].unique())\n",
    "print(df['Region'].unique())\n",
    "print(df['OrderDate'].min(),df['OrderDate'].max())"
   ]
  },
  {
   "cell_type": "code",
   "execution_count": 26,
   "id": "1902e04e-e85e-49ef-b8cd-9b396eddf020",
   "metadata": {},
   "outputs": [
    {
     "name": "stdout",
     "output_type": "stream",
     "text": [
      "Region\n",
      "East       1282\n",
      "Central    1250\n",
      "South      1232\n",
      "West       1227\n",
      "Name: count, dtype: int64\n",
      "Segment\n",
      "Corporate      1719\n",
      "Home Office    1675\n",
      "Consumer       1597\n",
      "Name: count, dtype: int64\n",
      "ProductCategory\n",
      "Furniture          1684\n",
      "Technology         1667\n",
      "Office Supplies    1640\n",
      "Name: count, dtype: int64\n"
     ]
    }
   ],
   "source": [
    "#Counting values for Categorical Columns\n",
    "print(df['Region'].value_counts())\n",
    "print(df[\"Segment\"].value_counts())\n",
    "print(df[\"ProductCategory\"].value_counts())"
   ]
  },
  {
   "cell_type": "code",
   "execution_count": 28,
   "id": "af101652-c5c3-4c89-b642-cc50a44d862b",
   "metadata": {},
   "outputs": [
    {
     "name": "stdout",
     "output_type": "stream",
     "text": [
      "ProductName\n",
      "Center      14\n",
      "After       13\n",
      "Open        12\n",
      "Many        12\n",
      "Call        12\n",
      "Ahead       12\n",
      "Congress    12\n",
      "Every       12\n",
      "Deep        12\n",
      "Yet         11\n",
      "Name: count, dtype: int64\n"
     ]
    }
   ],
   "source": [
    "#Finding Top Products\n",
    "print(df['ProductName'].value_counts().head(10))"
   ]
  },
  {
   "cell_type": "code",
   "execution_count": 31,
   "id": "a5788c40-00f7-466e-b055-e8d957c6131e",
   "metadata": {},
   "outputs": [
    {
     "name": "stdout",
     "output_type": "stream",
     "text": [
      "Region\n",
      "East       653016.57\n",
      "South      636300.53\n",
      "Central    634224.14\n",
      "West       606150.56\n",
      "Name: Sales, dtype: float64\n",
      "Segment\n",
      "Corporate      429.69\n",
      "Home Office    416.38\n",
      "Consumer       399.20\n",
      "Name: Discount, dtype: float64\n",
      "ProductCategory\n",
      "Furniture          220570.55\n",
      "Technology         215356.31\n",
      "Office Supplies    202492.21\n",
      "Name: Profit, dtype: float64\n"
     ]
    }
   ],
   "source": [
    "#Exploratory relatioships between variables:\n",
    "#Total Sales per Region\n",
    "print(df.groupby('Region')[\"Sales\"].sum().sort_values(ascending = False))\n",
    "\n",
    "#Average Discount by Segment\n",
    "print(df.groupby('Segment')['Discount'].sum().sort_values(ascending = False))\n",
    "\n",
    "#Total Profit per Category\n",
    "print(df.groupby('ProductCategory')['Profit'].sum().sort_values(ascending = False))"
   ]
  }
 ],
 "metadata": {
  "kernelspec": {
   "display_name": "Python 3 (ipykernel)",
   "language": "python",
   "name": "python3"
  },
  "language_info": {
   "codemirror_mode": {
    "name": "ipython",
    "version": 3
   },
   "file_extension": ".py",
   "mimetype": "text/x-python",
   "name": "python",
   "nbconvert_exporter": "python",
   "pygments_lexer": "ipython3",
   "version": "3.13.5"
  }
 },
 "nbformat": 4,
 "nbformat_minor": 5
}
